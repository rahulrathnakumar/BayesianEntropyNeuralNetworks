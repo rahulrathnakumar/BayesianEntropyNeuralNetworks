{
 "cells": [
  {
   "cell_type": "code",
   "execution_count": 1,
   "metadata": {},
   "outputs": [],
   "source": [
    "import torch\n",
    "import torch.nn as nn\n",
    "import torch.nn.functional as F\n",
    "import torch.optim as optim\n",
    "import numpy as np\n",
    "from blitz.modules import BayesianLinear\n",
    "from blitz.utils import variational_estimator\n",
    "import matplotlib.pyplot as plt\n",
    "import seaborn as sns\n",
    "\n",
    "from sklearn.datasets import load_diabetes\n",
    "from sklearn.preprocessing import StandardScaler\n",
    "from sklearn.model_selection import train_test_split\n",
    "\n",
    "from torch_truncnorm.TruncatedNormal import TruncatedNormal\n",
    "\n",
    "from function_collection import *\n",
    "\n",
    "from functools import partial\n",
    "\n",
    "# mdmm for constrained optimization\n",
    "import mdmm\n",
    "\n",
    "# tensorboard\n",
    "from torch.utils.tensorboard import SummaryWriter"
   ]
  },
  {
   "cell_type": "code",
   "execution_count": 2,
   "metadata": {},
   "outputs": [],
   "source": [
    "# create directory for tensorboard logs\n",
    "import os\n",
    "if not os.path.exists('variance_constraint_mdmm_logs'):\n",
    "    os.makedirs('variance_constraint_mdmm_logs')\n",
    "    \n"
   ]
  },
  {
   "cell_type": "code",
   "execution_count": 3,
   "metadata": {},
   "outputs": [],
   "source": [
    "# Bayesian Entropy Neural Network\n",
    "# Define NN model\n",
    "@variational_estimator\n",
    "class BayesianRegressor(nn.Module):\n",
    "    def __init__(self, input_dim, output_dim):\n",
    "        super().__init__()\n",
    "        self.posterior_rho_init = -3.0\n",
    "        self.prior_sigma_1 = 40.0\n",
    "        self.prior_sigma_2 = 50.0\n",
    "        self.blinear1 = BayesianLinear(input_dim, 4096, bias = True, prior_dist = torch.distributions.Normal(torch.tensor(0.0).to(device = torch.device('cuda:0')),torch.tensor(3.0).to(device = torch.device('cuda:0'))))\n",
    "        self.blinear2 = BayesianLinear(4096, output_dim, bias = True, prior_dist = torch.distributions.Normal(torch.tensor(0.0).to(device = torch.device('cuda:0')),torch.tensor(3.0).to(device = torch.device('cuda:0'))))\n",
    "\n",
    "    def forward(self, x):\n",
    "        x_ = self.blinear1(x)\n",
    "        x_ = F.tanh(x_)\n",
    "        x_ = self.blinear2(x_)\n",
    "        return x_\n"
   ]
  },
  {
   "cell_type": "markdown",
   "metadata": {},
   "source": [
    "Variance constraints - We need a distance aware variance constraint for the first demo.\n",
    "For instance, we need to show that variance increases with distance from training data.\n"
   ]
  },
  {
   "cell_type": "code",
   "execution_count": 5,
   "metadata": {},
   "outputs": [
    {
     "data": {
      "image/png": "[encoded data removed]",
      "text/plain": [
       "<Figure size 640x480 with 1 Axes>"
      ]
     },
     "metadata": {},
     "output_type": "display_data"
    }
   ],
   "source": [
    "##################################################\n",
    "## generate training data (with noise)\n",
    "##################################################\n",
    "\n",
    "nObs = 100 # number of observations\n",
    "\n",
    "# get noise around y observations\n",
    "yNormal = torch.distributions.Normal(loc=0.0, scale=10)\n",
    "yNoise  = yNormal.sample([nObs])\n",
    "\n",
    "# get observations\n",
    "xObs = 10*torch.rand([nObs])-5    # uniform from [-5,5]\n",
    "yObs = xObs**3 - xObs**2 + 25 * torch.sin(2*xObs) + yNoise\n",
    "\n",
    "# plot the data\n",
    "import pandas as pd\n",
    "d = pd.DataFrame({'xObs' : xObs, 'yObs' : yObs})\n",
    "sns.scatterplot(data = d, x = 'xObs', y = 'yObs')\n",
    "plt.show()"
   ]
  },
  {
   "cell_type": "code",
   "execution_count": null,
   "metadata": {},
   "outputs": [],
   "source": [
    "# define a function that "
   ]
  }
 ],
 "metadata": {
  "kernelspec": {
   "display_name": "pyrahul",
   "language": "python",
   "name": "python3"
  },
  "language_info": {
   "codemirror_mode": {
    "name": "ipython",
    "version": 3
   },
   "file_extension": ".py",
   "mimetype": "text/x-python",
   "name": "python",
   "nbconvert_exporter": "python",
   "pygments_lexer": "ipython3",
   "version": "3.8.18"
  }
 },
 "nbformat": 4,
 "nbformat_minor": 2
}
